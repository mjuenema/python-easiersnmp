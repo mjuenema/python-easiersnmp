{
 "cells": [
  {
   "cell_type": "code",
   "execution_count": 1,
   "id": "9637b24a-b8ac-4c2c-a855-45ce711c0a55",
   "metadata": {},
   "outputs": [],
   "source": [
    "import easiersnmp"
   ]
  },
  {
   "cell_type": "markdown",
   "id": "bca39644-37d1-448a-93d7-6b5dbed73eb2",
   "metadata": {},
   "source": [
    "**easiersnmp** wraps the ``easysnmp.Session()`` API and accepts the same arguments."
   ]
  },
  {
   "cell_type": "code",
   "execution_count": 5,
   "id": "0abbc756-10ae-4ff6-bf57-c5b3202ef291",
   "metadata": {},
   "outputs": [],
   "source": [
    "session = easiersnmp.Session(hostname='demo.pysnmp.com', community='public', version=2)"
   ]
  },
  {
   "cell_type": "markdown",
   "id": "cd9a11bc-1f9d-4c63-8741-094a164181ce",
   "metadata": {},
   "source": [
    "The key difference is that the returned value of \"GET\" operations is converted into a Python type."
   ]
  },
  {
   "cell_type": "code",
   "execution_count": 20,
   "id": "ee29a5af-d6f4-4bdf-8891-379dc30141ea",
   "metadata": {},
   "outputs": [],
   "source": [
    "result = session.get('SNMPv2-MIB::sysDescr.0')"
   ]
  },
  {
   "cell_type": "code",
   "execution_count": 21,
   "id": "f8c04b6e-5177-4d1e-8667-af33f0b8b4aa",
   "metadata": {},
   "outputs": [
    {
     "data": {
      "text/plain": [
       "<SNMPVariable value=#SNMP Agent on .NET Standard (oid=sysDescr, oid_index=b'0', snmp_type=OCTETSTR"
      ]
     },
     "execution_count": 21,
     "metadata": {},
     "output_type": "execute_result"
    }
   ],
   "source": [
    "result"
   ]
  },
  {
   "cell_type": "code",
   "execution_count": 22,
   "id": "00d3c8fe-fd64-4cd2-8951-685d6e13d729",
   "metadata": {},
   "outputs": [
    {
     "data": {
      "text/plain": [
       "str"
      ]
     },
     "execution_count": 22,
     "metadata": {},
     "output_type": "execute_result"
    }
   ],
   "source": [
    "type(result.value)"
   ]
  },
  {
   "cell_type": "markdown",
   "id": "64311820-0619-4f4b-b68c-82121f495c86",
   "metadata": {},
   "source": [
    "**easiersnmp** includes its own implementation to work with SNMP tables, similar to https://pypi.org/project/easysnmptable/."
   ]
  },
  {
   "cell_type": "code",
   "execution_count": 36,
   "id": "4940025c-07e3-4ba8-ac9f-f1aec3651ec0",
   "metadata": {},
   "outputs": [],
   "source": [
    "interfaces = session.table('IF-MIB::ifTable')"
   ]
  },
  {
   "cell_type": "code",
   "execution_count": 37,
   "id": "b2697987-5c2e-4ca6-82a1-02ae821af32f",
   "metadata": {},
   "outputs": [
    {
     "data": {
      "text/plain": [
       "dict_values"
      ]
     },
     "execution_count": 37,
     "metadata": {},
     "output_type": "execute_result"
    }
   ],
   "source": [
    "type(interfaces)"
   ]
  },
  {
   "cell_type": "code",
   "execution_count": 38,
   "id": "bfc51300-7f6d-47d7-8fd1-a76c208517ab",
   "metadata": {},
   "outputs": [
    {
     "data": {
      "text/plain": [
       "2"
      ]
     },
     "execution_count": 38,
     "metadata": {},
     "output_type": "execute_result"
    }
   ],
   "source": [
    "len(interfaces)"
   ]
  },
  {
   "cell_type": "code",
   "execution_count": 39,
   "id": "ce725c04-ba9b-44a0-889b-f38e69799ae8",
   "metadata": {},
   "outputs": [],
   "source": [
    "first_interface = list(interfaces)[0]"
   ]
  },
  {
   "cell_type": "code",
   "execution_count": 40,
   "id": "c9a43df3-bd58-48fc-9937-21bfffcc8b4a",
   "metadata": {},
   "outputs": [
    {
     "data": {
      "text/plain": [
       "dict"
      ]
     },
     "execution_count": 40,
     "metadata": {},
     "output_type": "execute_result"
    }
   ],
   "source": [
    "type(first_interface)"
   ]
  },
  {
   "cell_type": "code",
   "execution_count": 41,
   "id": "12fad5a0-26a6-4866-b1ca-ece7119eced6",
   "metadata": {},
   "outputs": [
    {
     "data": {
      "text/plain": [
       "dict_keys(['ifIndex', 'ifDescr', 'ifType', 'ifMtu', 'ifSpeed', 'ifPhysAddress', 'ifAdminStatus', 'ifOperStatus', 'ifLastChange', 'ifInOctets', 'ifInUcastPkts', 'ifInNUcastPkts', 'ifInDiscards', 'ifInErrors', 'ifInUnknownProtos', 'ifOutOctets', 'ifOutUcastPkts', 'ifOutNUcastPkts', 'ifOutDiscards', 'ifOutErrors', 'ifOutQLen', 'ifSpecific'])"
      ]
     },
     "execution_count": 41,
     "metadata": {},
     "output_type": "execute_result"
    }
   ],
   "source": [
    "first_interface.keys()"
   ]
  },
  {
   "cell_type": "code",
   "execution_count": 42,
   "id": "36257ff2-74b6-4610-8738-8f477ab19624",
   "metadata": {},
   "outputs": [
    {
     "data": {
      "text/plain": [
       "<SNMPVariable value=lo (oid=ifDescr, oid_index=b'1', snmp_type=OCTETSTR"
      ]
     },
     "execution_count": 42,
     "metadata": {},
     "output_type": "execute_result"
    }
   ],
   "source": [
    "first_interface['ifDescr']"
   ]
  },
  {
   "cell_type": "code",
   "execution_count": 43,
   "id": "982faca0-407b-4278-9283-fe6d8bfc0e88",
   "metadata": {},
   "outputs": [
    {
     "data": {
      "text/plain": [
       "str"
      ]
     },
     "execution_count": 43,
     "metadata": {},
     "output_type": "execute_result"
    }
   ],
   "source": [
    "type(first_interface['ifDescr'].value)"
   ]
  },
  {
   "cell_type": "code",
   "execution_count": 45,
   "id": "71b0346c-9024-408b-8874-8371617d75b1",
   "metadata": {},
   "outputs": [
    {
     "data": {
      "text/plain": [
       "1"
      ]
     },
     "execution_count": 45,
     "metadata": {},
     "output_type": "execute_result"
    }
   ],
   "source": [
    "first_interface['ifIndex'].value"
   ]
  },
  {
   "cell_type": "code",
   "execution_count": 46,
   "id": "cac3114b-8132-4255-ba36-30b41a2db45e",
   "metadata": {},
   "outputs": [
    {
     "data": {
      "text/plain": [
       "int"
      ]
     },
     "execution_count": 46,
     "metadata": {},
     "output_type": "execute_result"
    }
   ],
   "source": [
    "type(first_interface['ifIndex'].value)"
   ]
  },
  {
   "cell_type": "code",
   "execution_count": null,
   "id": "be4d8b4a-a8ea-4ade-a937-59471e110af5",
   "metadata": {},
   "outputs": [],
   "source": []
  }
 ],
 "metadata": {
  "kernelspec": {
   "display_name": "virtualenv",
   "language": "python",
   "name": "virtualenv"
  },
  "language_info": {
   "codemirror_mode": {
    "name": "ipython",
    "version": 3
   },
   "file_extension": ".py",
   "mimetype": "text/x-python",
   "name": "python",
   "nbconvert_exporter": "python",
   "pygments_lexer": "ipython3",
   "version": "3.10.12"
  }
 },
 "nbformat": 4,
 "nbformat_minor": 5
}
