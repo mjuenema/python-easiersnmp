{
 "cells": [
  {
   "cell_type": "markdown",
   "id": "6551748a-02b0-4b6e-8277-fc9aaccbc0d4",
   "metadata": {},
   "source": [
    "# EasierSNMP API\n",
    "EasierSNMP is mostly just a thin wrapper of the [EasySNMP](https://easysnmp.readthedocs.io/en/latest/index.html) library."
   ]
  },
  {
   "cell_type": "code",
   "execution_count": 2,
   "id": "31d40d05-16e4-4cad-a4de-e84be83ae0f8",
   "metadata": {},
   "outputs": [],
   "source": [
    "import easiersnmp"
   ]
  },
  {
   "cell_type": "code",
   "execution_count": 3,
   "id": "0abbc756-10ae-4ff6-bf57-c5b3202ef291",
   "metadata": {},
   "outputs": [],
   "source": [
    "session = easiersnmp.Session(hostname='demo.pysnmp.com', community='public', version=2)"
   ]
  },
  {
   "cell_type": "markdown",
   "id": "5c215ced-12c5-48b5-91b3-3c76bebb6c84",
   "metadata": {},
   "source": [
    "## GET\n",
    "The key difference is that the returned value of \"GET\" operations is automatically converted into a Python type."
   ]
  },
  {
   "cell_type": "code",
   "execution_count": 4,
   "id": "ee29a5af-d6f4-4bdf-8891-379dc30141ea",
   "metadata": {},
   "outputs": [],
   "source": [
    "result = session.get('SNMPv2-MIB::sysDescr.0')"
   ]
  },
  {
   "cell_type": "code",
   "execution_count": 6,
   "id": "f8c04b6e-5177-4d1e-8667-af33f0b8b4aa",
   "metadata": {},
   "outputs": [
    {
     "data": {
      "text/plain": [
       "(<SNMPVariable value=#SNMP Agent on .NET Standard (oid=sysDescr, oid_index=b'0', snmp_type=OCTETSTR,\n",
       " '#SNMP Agent on .NET Standard')"
      ]
     },
     "execution_count": 6,
     "metadata": {},
     "output_type": "execute_result"
    }
   ],
   "source": [
    "result, result.value"
   ]
  },
  {
   "cell_type": "code",
   "execution_count": 7,
   "id": "00d3c8fe-fd64-4cd2-8951-685d6e13d729",
   "metadata": {},
   "outputs": [
    {
     "data": {
      "text/plain": [
       "str"
      ]
     },
     "execution_count": 7,
     "metadata": {},
     "output_type": "execute_result"
    }
   ],
   "source": [
    "type(result.value)"
   ]
  },
  {
   "cell_type": "markdown",
   "id": "5b8d7768-72f0-48a5-a26a-8894c76c283c",
   "metadata": {},
   "source": [
    "## GET BULK"
   ]
  },
  {
   "cell_type": "code",
   "execution_count": 39,
   "id": "6e07c04d-16d9-4f0d-ae20-ea0c333112c9",
   "metadata": {},
   "outputs": [
    {
     "data": {
      "text/plain": [
       "[<SNMPVariable value=.1.3.6.1 (oid=sysObjectID, oid_index=b'0', snmp_type=OBJECTID,\n",
       " <SNMPVariable value=137714775 (oid=sysUpTime, oid_index=b'0', snmp_type=TICKS,\n",
       " <SNMPVariable value=I have set this string using my tests! (oid=sysContact, oid_index=b'0', snmp_type=OCTETSTR,\n",
       " <SNMPVariable value=1 (oid=sysName, oid_index=b'0', snmp_type=OCTETSTR,\n",
       " <SNMPVariable value=Shanghai (oid=sysLocation, oid_index=b'0', snmp_type=OCTETSTR,\n",
       " <SNMPVariable value=72 (oid=sysServices, oid_index=b'0', snmp_type=INTEGER,\n",
       " <SNMPVariable value=0 (oid=sysORLastChange, oid_index=b'0', snmp_type=TICKS,\n",
       " <SNMPVariable value=1 (oid=sysORIndex, oid_index=b'1', snmp_type=INTEGER,\n",
       " <SNMPVariable value=2 (oid=sysORIndex, oid_index=b'2', snmp_type=INTEGER,\n",
       " <SNMPVariable value=.1.3 (oid=sysORID, oid_index=b'1', snmp_type=OBJECTID]"
      ]
     },
     "execution_count": 39,
     "metadata": {},
     "output_type": "execute_result"
    }
   ],
   "source": [
    "results = session.get_bulk(['SNMPv2-MIB::sysDescr.0'])\n",
    "results"
   ]
  },
  {
   "cell_type": "markdown",
   "id": "f91d80de-b686-4a11-a5c2-2a9aa62709af",
   "metadata": {},
   "source": [
    "## GET NEXT\n",
    "GET NEXT is not yet implemented."
   ]
  },
  {
   "cell_type": "markdown",
   "id": "5f185027-d154-4805-8037-fa04d7f1a83b",
   "metadata": {},
   "source": [
    "## WALK"
   ]
  },
  {
   "cell_type": "code",
   "execution_count": 23,
   "id": "f30cb296-bd29-485c-9b13-0b2013802415",
   "metadata": {},
   "outputs": [
    {
     "data": {
      "text/plain": [
       "[<SNMPVariable value=#SNMP Agent on .NET Standard (oid=sysDescr, oid_index=b'0', snmp_type=OCTETSTR,\n",
       " <SNMPVariable value=.1.3.6.1 (oid=sysObjectID, oid_index=b'0', snmp_type=OBJECTID,\n",
       " <SNMPVariable value=137666041 (oid=sysUpTime, oid_index=b'0', snmp_type=TICKS,\n",
       " <SNMPVariable value=I have set this string using my tests! (oid=sysContact, oid_index=b'0', snmp_type=OCTETSTR,\n",
       " <SNMPVariable value=1 (oid=sysName, oid_index=b'0', snmp_type=OCTETSTR,\n",
       " <SNMPVariable value=Shanghai (oid=sysLocation, oid_index=b'0', snmp_type=OCTETSTR,\n",
       " <SNMPVariable value=72 (oid=sysServices, oid_index=b'0', snmp_type=INTEGER,\n",
       " <SNMPVariable value=0 (oid=sysORLastChange, oid_index=b'0', snmp_type=TICKS,\n",
       " <SNMPVariable value=1 (oid=sysORIndex, oid_index=b'1', snmp_type=INTEGER,\n",
       " <SNMPVariable value=2 (oid=sysORIndex, oid_index=b'2', snmp_type=INTEGER,\n",
       " <SNMPVariable value=.1.3 (oid=sysORID, oid_index=b'1', snmp_type=OBJECTID,\n",
       " <SNMPVariable value=.1.4 (oid=sysORID, oid_index=b'2', snmp_type=OBJECTID,\n",
       " <SNMPVariable value=Test1 (oid=sysORDescr, oid_index=b'1', snmp_type=OCTETSTR,\n",
       " <SNMPVariable value=Test2 (oid=sysORDescr, oid_index=b'2', snmp_type=OCTETSTR,\n",
       " <SNMPVariable value=1 (oid=sysORUpTime, oid_index=b'1', snmp_type=TICKS,\n",
       " <SNMPVariable value=2 (oid=sysORUpTime, oid_index=b'2', snmp_type=TICKS]"
      ]
     },
     "execution_count": 23,
     "metadata": {},
     "output_type": "execute_result"
    }
   ],
   "source": [
    "results = session.walk('SNMPv2-MIB::system')\n",
    "results"
   ]
  },
  {
   "cell_type": "markdown",
   "id": "b48ccd15-de32-4b74-a419-a89d6f4d2c25",
   "metadata": {},
   "source": [
    "## BULK WALK"
   ]
  },
  {
   "cell_type": "code",
   "execution_count": 25,
   "id": "a0f09c49-424d-49cb-8c43-2aa2455946f8",
   "metadata": {},
   "outputs": [
    {
     "data": {
      "text/plain": [
       "[<SNMPVariable value=#SNMP Agent on .NET Standard (oid=sysDescr, oid_index=b'0', snmp_type=OCTETSTR,\n",
       " <SNMPVariable value=.1.3.6.1 (oid=sysObjectID, oid_index=b'0', snmp_type=OBJECTID,\n",
       " <SNMPVariable value=137670028 (oid=sysUpTime, oid_index=b'0', snmp_type=TICKS,\n",
       " <SNMPVariable value=I have set this string using my tests! (oid=sysContact, oid_index=b'0', snmp_type=OCTETSTR,\n",
       " <SNMPVariable value=1 (oid=sysName, oid_index=b'0', snmp_type=OCTETSTR,\n",
       " <SNMPVariable value=Shanghai (oid=sysLocation, oid_index=b'0', snmp_type=OCTETSTR,\n",
       " <SNMPVariable value=72 (oid=sysServices, oid_index=b'0', snmp_type=INTEGER,\n",
       " <SNMPVariable value=0 (oid=sysORLastChange, oid_index=b'0', snmp_type=TICKS,\n",
       " <SNMPVariable value=1 (oid=sysORIndex, oid_index=b'1', snmp_type=INTEGER,\n",
       " <SNMPVariable value=2 (oid=sysORIndex, oid_index=b'2', snmp_type=INTEGER,\n",
       " <SNMPVariable value=.1.3 (oid=sysORID, oid_index=b'1', snmp_type=OBJECTID,\n",
       " <SNMPVariable value=.1.4 (oid=sysORID, oid_index=b'2', snmp_type=OBJECTID,\n",
       " <SNMPVariable value=Test1 (oid=sysORDescr, oid_index=b'1', snmp_type=OCTETSTR,\n",
       " <SNMPVariable value=Test2 (oid=sysORDescr, oid_index=b'2', snmp_type=OCTETSTR,\n",
       " <SNMPVariable value=1 (oid=sysORUpTime, oid_index=b'1', snmp_type=TICKS,\n",
       " <SNMPVariable value=2 (oid=sysORUpTime, oid_index=b'2', snmp_type=TICKS]"
      ]
     },
     "execution_count": 25,
     "metadata": {},
     "output_type": "execute_result"
    }
   ],
   "source": [
    "results = session.bulkwalk('SNMPv2-MIB::system')\n",
    "results"
   ]
  },
  {
   "cell_type": "markdown",
   "id": "64311820-0619-4f4b-b68c-82121f495c86",
   "metadata": {},
   "source": [
    "## TABLE\n",
    "EasierSNMP includes its own implementation to work with SNMP tables, similar to [EasySNMPTable](https://pypi.org/project/easysnmptable/)."
   ]
  },
  {
   "cell_type": "code",
   "execution_count": 26,
   "id": "4940025c-07e3-4ba8-ac9f-f1aec3651ec0",
   "metadata": {},
   "outputs": [],
   "source": [
    "interfaces = session.table('IF-MIB::ifTable')"
   ]
  },
  {
   "cell_type": "code",
   "execution_count": 27,
   "id": "ce725c04-ba9b-44a0-889b-f38e69799ae8",
   "metadata": {},
   "outputs": [],
   "source": [
    "first_interface = list(interfaces)[0]"
   ]
  },
  {
   "cell_type": "code",
   "execution_count": 28,
   "id": "c9a43df3-bd58-48fc-9937-21bfffcc8b4a",
   "metadata": {},
   "outputs": [
    {
     "data": {
      "text/plain": [
       "dict"
      ]
     },
     "execution_count": 28,
     "metadata": {},
     "output_type": "execute_result"
    }
   ],
   "source": [
    "type(first_interface)"
   ]
  },
  {
   "cell_type": "code",
   "execution_count": 29,
   "id": "12fad5a0-26a6-4866-b1ca-ece7119eced6",
   "metadata": {},
   "outputs": [
    {
     "data": {
      "text/plain": [
       "dict_keys(['ifIndex', 'ifDescr', 'ifType', 'ifMtu', 'ifSpeed', 'ifPhysAddress', 'ifAdminStatus', 'ifOperStatus', 'ifLastChange', 'ifInOctets', 'ifInUcastPkts', 'ifInNUcastPkts', 'ifInDiscards', 'ifInErrors', 'ifInUnknownProtos', 'ifOutOctets', 'ifOutUcastPkts', 'ifOutNUcastPkts', 'ifOutDiscards', 'ifOutErrors', 'ifOutQLen', 'ifSpecific'])"
      ]
     },
     "execution_count": 29,
     "metadata": {},
     "output_type": "execute_result"
    }
   ],
   "source": [
    "first_interface.keys()"
   ]
  },
  {
   "cell_type": "code",
   "execution_count": 30,
   "id": "36257ff2-74b6-4610-8738-8f477ab19624",
   "metadata": {},
   "outputs": [
    {
     "data": {
      "text/plain": [
       "<SNMPVariable value=lo (oid=ifDescr, oid_index=b'1', snmp_type=OCTETSTR"
      ]
     },
     "execution_count": 30,
     "metadata": {},
     "output_type": "execute_result"
    }
   ],
   "source": [
    "first_interface['ifDescr']"
   ]
  },
  {
   "cell_type": "code",
   "execution_count": 32,
   "id": "982faca0-407b-4278-9283-fe6d8bfc0e88",
   "metadata": {},
   "outputs": [
    {
     "data": {
      "text/plain": [
       "'lo'"
      ]
     },
     "execution_count": 32,
     "metadata": {},
     "output_type": "execute_result"
    }
   ],
   "source": [
    "first_interface['ifDescr'].value"
   ]
  },
  {
   "cell_type": "markdown",
   "id": "66e3602f-65c5-495c-8f8e-fd395c060353",
   "metadata": {},
   "source": [
    "## BULK TABLE\n",
    "The ``bulktable()`` method is identical to ``table()`` but uses SNMP BULKWALK instead of WALK."
   ]
  },
  {
   "cell_type": "code",
   "execution_count": 34,
   "id": "5accdfc7-591f-41c3-8882-f58c2d8d07c6",
   "metadata": {},
   "outputs": [],
   "source": [
    "interfaces = session.bulktable('IF-MIB::ifTable')"
   ]
  },
  {
   "cell_type": "code",
   "execution_count": 35,
   "id": "3b4e3a82-b9db-48d6-8980-e09207261c14",
   "metadata": {},
   "outputs": [],
   "source": [
    "second_interface = list(interfaces)[1]"
   ]
  },
  {
   "cell_type": "code",
   "execution_count": 37,
   "id": "e4711d16-d07b-4609-bd63-dad60282da25",
   "metadata": {},
   "outputs": [
    {
     "data": {
      "text/plain": [
       "'eth0'"
      ]
     },
     "execution_count": 37,
     "metadata": {},
     "output_type": "execute_result"
    }
   ],
   "source": [
    "second_interface['ifDescr'].value"
   ]
  },
  {
   "cell_type": "markdown",
   "id": "a1d0ec3c-da1e-44f4-a490-cf48156b993a",
   "metadata": {},
   "source": [
    "## SET"
   ]
  },
  {
   "cell_type": "code",
   "execution_count": 45,
   "id": "fe0652cd-5362-4acc-be7c-09962f189013",
   "metadata": {},
   "outputs": [
    {
     "name": "stdout",
     "output_type": "stream",
     "text": [
      "noAccess\n"
     ]
    }
   ],
   "source": [
    "import easysnmp    # EasierSNMP currently does not wrap the EasySNMP exceptions. This is a bug!\n",
    "try:\n",
    "   session.set('SNMPv2-MIB::sysDescr.0', 'Just testing')\n",
    "except easysnmp.EasySNMPError as e:\n",
    "    print(e)"
   ]
  },
  {
   "cell_type": "code",
   "execution_count": null,
   "id": "21c50997-6ca3-40f3-802c-732f0882e9b8",
   "metadata": {},
   "outputs": [],
   "source": []
  }
 ],
 "metadata": {
  "kernelspec": {
   "display_name": "virtualenv",
   "language": "python",
   "name": "virtualenv"
  },
  "language_info": {
   "codemirror_mode": {
    "name": "ipython",
    "version": 3
   },
   "file_extension": ".py",
   "mimetype": "text/x-python",
   "name": "python",
   "nbconvert_exporter": "python",
   "pygments_lexer": "ipython3",
   "version": "3.10.12"
  }
 },
 "nbformat": 4,
 "nbformat_minor": 5
}
